{
 "cells": [
  {
   "cell_type": "markdown",
   "metadata": {},
   "source": [
    "# Fisher Linear Discriminant From Scratch"
   ]
  },
  {
   "cell_type": "markdown",
   "metadata": {},
   "source": [
    "- Linear Classifier.\n",
    "- Discriminative model."
   ]
  },
  {
   "cell_type": "markdown",
   "metadata": {},
   "source": [
    "<font color=blue><b>1- Import Needed Packages</b></font>"
   ]
  },
  {
   "cell_type": "code",
   "execution_count": 1,
   "metadata": {},
   "outputs": [],
   "source": [
    "import numpy as np\n",
    "import os\n",
    "import imageio\n",
    "import matplotlib.pylab as plt\n",
    "import seaborn as sn\n",
    "import pandas as pd"
   ]
  },
  {
   "cell_type": "markdown",
   "metadata": {},
   "source": [
    "### Get the current directory path"
   ]
  },
  {
   "cell_type": "code",
   "execution_count": 2,
   "metadata": {},
   "outputs": [],
   "source": [
    "home_path = os.getcwd()"
   ]
  },
  {
   "cell_type": "markdown",
   "metadata": {},
   "source": [
    "<font color=blue><b>2- Load Images </b></font>"
   ]
  },
  {
   "cell_type": "code",
   "execution_count": 3,
   "metadata": {},
   "outputs": [],
   "source": [
    "path='./Train'\n",
    "os.chdir(path)\n",
    "\n",
    "Images=os.listdir()\n",
    "# print(type(Images)) # How Does it store\n",
    "# print(Images)\n",
    "# print(len(Images))# To know number of them\n",
    "\n",
    "# print(Images)"
   ]
  },
  {
   "cell_type": "code",
   "execution_count": null,
   "metadata": {},
   "outputs": [],
   "source": []
  },
  {
   "cell_type": "markdown",
   "metadata": {},
   "source": [
    "<font color=blue><b>Load training traget vector</b></font>"
   ]
  },
  {
   "cell_type": "code",
   "execution_count": 4,
   "metadata": {},
   "outputs": [],
   "source": [
    "# Get target data of training\n",
    "t = np.genfromtxt('../Training Labels.txt')"
   ]
  },
  {
   "cell_type": "code",
   "execution_count": null,
   "metadata": {},
   "outputs": [],
   "source": []
  },
  {
   "cell_type": "markdown",
   "metadata": {},
   "source": [
    "<font color=blue><b>3-Sort them and read them </b></font>"
   ]
  },
  {
   "cell_type": "code",
   "execution_count": 5,
   "metadata": {},
   "outputs": [
    {
     "data": {
      "text/plain": [
       "<matplotlib.image.AxesImage at 0x7f4d8cdb3b38>"
      ]
     },
     "execution_count": 5,
     "metadata": {},
     "output_type": "execute_result"
    },
    {
     "data": {
      "image/png": "[encoded data removed]",
      "text/plain": [
       "<Figure size 432x288 with 1 Axes>"
      ]
     },
     "metadata": {
      "needs_background": "light"
     },
     "output_type": "display_data"
    }
   ],
   "source": [
    "%matplotlib inline\n",
    "Images1=sorted(Images, key=lambda t: int(os.path.splitext(t)[0])) # sort them ascendingly \n",
    "ImagF=np.zeros((2400,784))  # All Images\n",
    "for i in range(len(Images1)):\n",
    "    ImagF1=imageio.imread(Images1[i])\n",
    "    ImagF[i,:]=ImagF1.reshape((1,784))\n",
    "plt.imshow(ImagF[1000,:].reshape(28,28)) # To Display it"
   ]
  },
  {
   "cell_type": "markdown",
   "metadata": {},
   "source": [
    "<font color=blue ><b>4-Training Phase (Weights) </b></font> "
   ]
  },
  {
   "cell_type": "code",
   "execution_count": 6,
   "metadata": {},
   "outputs": [],
   "source": [
    "def m1(c1):\n",
    "    #Calculate mean of the intended class \n",
    "    #c1 is the first class label that wanted to get its mean, c1 = 0,1,2,... or 9\n",
    "    Data = ImagF[t == c1]\n",
    "    m1 = (np.sum(Data, axis=0)/len(Data)).reshape((Data.shape[1], 1))\n",
    "    return m1\n",
    "\n",
    "def m2(c2):\n",
    "    # Calculate mean of the other classes\n",
    "    # c2 is same as the first class label c1 that wanted to exclude \n",
    "    #its data and then get the mean, c2 = 0,1,2,... or 9\n",
    "    Data = ImagF[t != c2]\n",
    "    m2 = (np.sum(Data, axis=0)/len(Data)).reshape((Data.shape[1], 1))\n",
    "    return m2"
   ]
  },
  {
   "cell_type": "code",
   "execution_count": 7,
   "metadata": {},
   "outputs": [],
   "source": [
    "def S1(c1,m1):\n",
    "    # Calculate First Term of SW\n",
    "    # c1 is the first class label that wanted to get its cov, c1 = 0,1,2,... or 9\n",
    "    n = m1.shape[0]\n",
    "    S1_t = np.zeros((n, n))\n",
    "    for i in ImagF[t == c1]:\n",
    "        i = i.reshape(n,1)\n",
    "        S1_t += ((i-m1)@((i-m1).T))\n",
    "    return S1_t\n",
    "\n",
    "def S2(c2,m2):\n",
    "    # Calculate Second Term of SW\n",
    "    # c2 is same as the first class label c1 that wanted to exclude \n",
    "    #its data and then get the cov, c2 = 0,1,2,... or 9\n",
    "    n = m2.shape[0]\n",
    "    S2_t = np.zeros((n, n))\n",
    "    for i in ImagF[t != c2]:\n",
    "        i = i.reshape(n,1)\n",
    "        S2_t += ((i-m2)@((i-m2).T))\n",
    "    return S2_t"
   ]
  },
  {
   "cell_type": "code",
   "execution_count": 8,
   "metadata": {},
   "outputs": [],
   "source": [
    "W=np.zeros((10,784))\n",
    "W_o=np.zeros((10,1))\n",
    "counter=0 \n",
    "for i in range(0,len(Images1),240):\n",
    "    \n",
    "    #Get First Class say c1\n",
    "    #Class label for first class 0,1,2,... or 9\n",
    "    c1 = counter\n",
    "    \n",
    "    #Get Other Classes say c2\n",
    "    #c2 is the same as Class label of first class c1 in order to exclude this class data from full data\n",
    "    #c2 = c1 = 0,1,2,... or 9\n",
    "    c2 = counter\n",
    "    \n",
    "    #Get Means\n",
    "    mean1=m1(c1)\n",
    "    mean2=m2(c2)\n",
    "    \n",
    "    #Calculate SW\n",
    "    Sw=S1(c1,mean1)+S2(c2,mean2)\n",
    "    \n",
    "    #Calculate its invers \"Note Use pinv function\"\n",
    "    Sw_inv=np.linalg.pinv(Sw)\n",
    "    \n",
    "    #Calculate Weigths of the intended class \n",
    "    W[counter] = (Sw_inv @ (mean1 - mean2)).T\n",
    "    \n",
    "    #Calculate W_bias of it\n",
    "    W_o[counter] = -(W[counter].reshape((784, 1))).T @ (mean2 + mean1) / 2\n",
    "    \n",
    "    counter+=1\n"
   ]
  },
  {
   "cell_type": "code",
   "execution_count": null,
   "metadata": {},
   "outputs": [],
   "source": []
  },
  {
   "cell_type": "markdown",
   "metadata": {},
   "source": [
    "<font color=blue ><b>5-Testing Phase </b></font>"
   ]
  },
  {
   "cell_type": "code",
   "execution_count": 9,
   "metadata": {},
   "outputs": [
    {
     "name": "stdout",
     "output_type": "stream",
     "text": [
      "Accuracy:  80.5 %\n"
     ]
    },
    {
     "data": {
      "image/png": "[encoded data removed]",
      "text/plain": [
       "<Figure size 720x720 with 2 Axes>"
      ]
     },
     "metadata": {
      "needs_background": "light"
     },
     "output_type": "display_data"
    }
   ],
   "source": [
    "#-----------------Testing---------------\n",
    "os.chdir(home_path)\n",
    "Test_Labels=np.loadtxt(\"Test Labels.txt\")\n",
    "path='./Test'\n",
    "os.chdir(path)\n",
    "Test_Image=os.listdir()\n",
    "Test_Image.pop()\n",
    "Test_Image1=sorted(Test_Image, key=lambda t: int(os.path.splitext(t)[0]))\n",
    "Imag_T=np.zeros((200,784))\n",
    "Predicted_Labels=np.zeros((200))\n",
    "for i in range(len(Test_Image1)):\n",
    "    Imag=imageio.imread(Test_Image1[i])\n",
    "    Imag_T[i,:]=Imag.reshape((1,784)) \n",
    "    \n",
    "    # Calculate Predicted Y \n",
    "    Y = (W@Imag_T[i].reshape((784,1))) + W_o\n",
    "        \n",
    "    # Calculate Predicted Labels\n",
    "    Predicted_Labels[i] = np.argmax(Y)\n",
    "\n",
    "# Calculate Accuracy and Print it\n",
    "Accuracy = np.sum(Predicted_Labels == Test_Labels) / len(Test_Labels) * 100\n",
    "print('Accuracy: ', Accuracy, '%')\n",
    "\n",
    "# Plot Confusion Matrix and save it but take care to save it in another folder NOT TRAIN or TEST\n",
    "# Get confusion matrix manually\n",
    "Confusion_Matrix = np.zeros((10,10))\n",
    "for k in range(10):\n",
    "    Confusion_Matrix[k, :] = [np.sum((Predicted_Labels == i) & (Test_Labels == k)) for i in range(10)]\n",
    "\n",
    "# Plot confusion matrix using (pandas, matplotlib and seaborn) packages.\n",
    "df_cm = pd.DataFrame(Confusion_Matrix, index = range(10), columns = range(10))\n",
    "plt.figure(figsize = (10,10))\n",
    "sn.heatmap(df_cm, cmap=\"Blues\", vmin=0, vmax=20, annot=True)\n",
    "plt.title('Confusion Matrix Heatmap', fontsize=25)\n",
    "plt.xlabel('Predicted', fontsize=20)\n",
    "plt.ylabel('Actual', fontsize=20)\n",
    "\n",
    "# Then save image to project main folder.\n",
    "plt.savefig(\"../Confusion.jpg\")"
   ]
  }
 ],
 "metadata": {
  "kernelspec": {
   "display_name": "Python 3",
   "language": "python",
   "name": "python3"
  },
  "language_info": {
   "codemirror_mode": {
    "name": "ipython",
    "version": 3
   },
   "file_extension": ".py",
   "mimetype": "text/x-python",
   "name": "python",
   "nbconvert_exporter": "python",
   "pygments_lexer": "ipython3",
   "version": "3.7.3"
  }
 },
 "nbformat": 4,
 "nbformat_minor": 2
}
